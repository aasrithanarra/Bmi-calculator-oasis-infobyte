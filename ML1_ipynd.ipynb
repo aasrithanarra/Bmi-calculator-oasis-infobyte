{
  "nbformat": 4,
  "nbformat_minor": 0,
  "metadata": {
    "colab": {
      "provenance": [],
      "authorship_tag": "ABX9TyPlWFbWrNfQNT+oHSQuioRg",
      "include_colab_link": true
    },
    "kernelspec": {
      "name": "python3",
      "display_name": "Python 3"
    },
    "language_info": {
      "name": "python"
    }
  },
  "cells": [
    {
      "cell_type": "markdown",
      "metadata": {
        "id": "view-in-github",
        "colab_type": "text"
      },
      "source": [
        "<a href=\"https://colab.research.google.com/github/aasrithanarra/Bmi-calculator-oasis-infobyte/blob/main/ML1_ipynd.ipynb\" target=\"_parent\"><img src=\"https://colab.research.google.com/assets/colab-badge.svg\" alt=\"Open In Colab\"/></a>"
      ]
    },
    {
      "cell_type": "code",
      "source": [
        "import numpy as np\n",
        "import pandas as pd\n",
        "from sklearn.model_selection import train_test_split\n",
        "from sklearn.linear_model import LinearRegression\n",
        "from sklearn.metrics import mean_squared_error, r2_score\n",
        "\n",
        "# Load dataset\n",
        "data = pd.read_csv('house_price.csv')\n",
        "\n",
        "# Explore and preprocess data\n",
        "print(data.head())\n",
        "print(data.info())\n",
        "print(data.describe())\n",
        "data = data.dropna()\n",
        "\n",
        "# Define features and target\n",
        "X = data[['SquareFootage', 'Bedrooms', 'Bathrooms']]\n",
        "y = data['Price']\n",
        "\n",
        "# Split dataset\n",
        "X_train, X_test, y_train, y_test = train_test_split(X, y, test_size=0.2, random_state=42)\n",
        "\n",
        "# Train the model\n",
        "model = LinearRegression()\n",
        "model.fit(X_train, y_train)\n",
        "\n",
        "# Make predictions\n",
        "y_pred = model.predict(X_test)\n",
        "\n",
        "# Evaluate the model\n",
        "mse = mean_squared_error(y_test, y_pred)\n",
        "r2 = r2_score(y_test, y_pred)\n",
        "\n",
        "print(f'Mean Squared Error: {mse}')\n",
        "print(f'R-squared: {r2}')\n",
        "\n",
        "# Save the model\n",
        "import joblib\n",
        "joblib.dump(model, 'house_price_model.pkl')\n"
      ],
      "metadata": {
        "colab": {
          "base_uri": "https://localhost:8080/"
        },
        "id": "iNjSVpobXXVv",
        "outputId": "e53a8451-2018-4d8c-c455-033b3eae157e"
      },
      "execution_count": null,
      "outputs": [
        {
          "output_type": "stream",
          "name": "stdout",
          "text": [
            "   SquareFootage  Bedrooms  Bathrooms   Price\n",
            "0           1500         3          2  250000\n",
            "1           1600         3          2  270000\n",
            "2           1700         4          3  300000\n",
            "3           1800         4          3  320000\n",
            "4           1900         3          2  340000\n",
            "<class 'pandas.core.frame.DataFrame'>\n",
            "RangeIndex: 26 entries, 0 to 25\n",
            "Data columns (total 4 columns):\n",
            " #   Column         Non-Null Count  Dtype\n",
            "---  ------         --------------  -----\n",
            " 0   SquareFootage  26 non-null     int64\n",
            " 1   Bedrooms       26 non-null     int64\n",
            " 2   Bathrooms      26 non-null     int64\n",
            " 3   Price          26 non-null     int64\n",
            "dtypes: int64(4)\n",
            "memory usage: 960.0 bytes\n",
            "None\n",
            "       SquareFootage   Bedrooms  Bathrooms          Price\n",
            "count      26.000000  26.000000  26.000000      26.000000\n",
            "mean     2750.000000   4.923077   3.923077  515769.230769\n",
            "std       764.852927   1.163549   1.163549  158269.973828\n",
            "min      1500.000000   3.000000   2.000000  250000.000000\n",
            "25%      2125.000000   4.000000   3.000000  385000.000000\n",
            "50%      2750.000000   5.000000   4.000000  520000.000000\n",
            "75%      3375.000000   6.000000   5.000000  645000.000000\n",
            "max      4000.000000   7.000000   6.000000  770000.000000\n",
            "Mean Squared Error: 24662861.454501677\n",
            "R-squared: 0.9989555781527325\n"
          ]
        },
        {
          "output_type": "execute_result",
          "data": {
            "text/plain": [
              "['house_price_model.pkl']"
            ]
          },
          "metadata": {},
          "execution_count": 4
        }
      ]
    }
  ]
}